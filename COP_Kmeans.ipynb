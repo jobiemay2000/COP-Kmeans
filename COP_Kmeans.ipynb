{
  "nbformat": 4,
  "nbformat_minor": 0,
  "metadata": {
    "colab": {
      "provenance": [],
      "collapsed_sections": [],
      "include_colab_link": true
    },
    "kernelspec": {
      "name": "python3",
      "display_name": "Python 3"
    },
    "language_info": {
      "name": "python"
    }
  },
  "cells": [
    {
      "cell_type": "markdown",
      "metadata": {
        "id": "view-in-github",
        "colab_type": "text"
      },
      "source": [
        "<a href=\"https://colab.research.google.com/github/jobiemay2000/COP-Kmeans/blob/master/COP_Kmeans.ipynb\" target=\"_parent\"><img src=\"https://colab.research.google.com/assets/colab-badge.svg\" alt=\"Open In Colab\"/></a>"
      ]
    },
    {
      "cell_type": "code",
      "execution_count": null,
      "metadata": {
        "id": "aCOM76S9R0wn",
        "colab": {
          "base_uri": "https://localhost:8080/"
        },
        "outputId": "3ca763ef-07fe-4043-c10b-db235b286bb8"
      },
      "outputs": [
        {
          "output_type": "stream",
          "name": "stdout",
          "text": [
            "Cloning into 'COP-Kmeans'...\n",
            "remote: Enumerating objects: 518, done.\u001b[K\n",
            "remote: Total 518 (delta 0), reused 0 (delta 0), pack-reused 518\u001b[K\n",
            "Receiving objects: 100% (518/518), 239.54 KiB | 2.47 MiB/s, done.\n",
            "Resolving deltas: 100% (179/179), done.\n"
          ]
        }
      ],
      "source": [
        "!git clone https://github.com/Behrouz-Babaki/COP-Kmeans.git"
      ]
    },
    {
      "cell_type": "code",
      "source": [
        "import sys\n",
        "sys.path.append('/content/COP-Kmeans') "
      ],
      "metadata": {
        "id": "DWYmLIkDlByT"
      },
      "execution_count": null,
      "outputs": []
    },
    {
      "cell_type": "code",
      "source": [
        "import numpy as np\n",
        "from copkmeans.cop_kmeans import cop_kmeans\n",
        "import pandas as pd\n",
        "from pandas import DataFrame\n",
        "from matplotlib import pyplot as plt\n",
        "import matplotlib.cm as cm"
      ],
      "metadata": {
        "id": "nGsO0rjogqf5"
      },
      "execution_count": null,
      "outputs": []
    },
    {
      "cell_type": "code",
      "source": [
        "import random\n",
        "random.seed(0)"
      ],
      "metadata": {
        "id": "bR2pfgjvBEer"
      },
      "execution_count": null,
      "outputs": []
    },
    {
      "cell_type": "code",
      "source": [
        "url = \"https://github.com/jobiemay2000/MDRP/blob/main/data/2-stage-data.csv?raw=true\"\n",
        "# https://github.com/jobiemay2000/MDRP/blob/main/data/Riders.csv\n",
        "orders = pd.read_csv(url)\n",
        "P = orders.iloc[:, [1, 2]].values\n",
        "D = orders.iloc[:, [3, 4]].values\n",
        "locations = np.concatenate((P, D))\n",
        "locations\n"
      ],
      "metadata": {
        "id": "B5nNAa-7mgnv",
        "colab": {
          "base_uri": "https://localhost:8080/"
        },
        "outputId": "83d594fc-4972-4065-a245-a6a950d0a5a1"
      },
      "execution_count": null,
      "outputs": [
        {
          "output_type": "execute_result",
          "data": {
            "text/plain": [
              "array([[2725. , 2200. ],\n",
              "       [1575. , 2587.5],\n",
              "       [1650. , 1512.5],\n",
              "       [ 637.5, 1012.5],\n",
              "       [1425. , 1887.5],\n",
              "       [1262.5, 2137.5],\n",
              "       [ 875. , 1125. ],\n",
              "       [2425. , 1450. ],\n",
              "       [1375. , 1850. ],\n",
              "       [1375. , 1850. ],\n",
              "       [2087.5, 1250. ],\n",
              "       [1450. , 2700. ],\n",
              "       [2187.5,  625. ],\n",
              "       [2800. , 2325. ],\n",
              "       [2650. , 2225. ],\n",
              "       [2825. , 2425. ],\n",
              "       [ 887.5, 1137.5],\n",
              "       [1675. ,  325. ],\n",
              "       [1512.5, 1362.5],\n",
              "       [2625. , 2262.5],\n",
              "       [2625. , 2262.5],\n",
              "       [ 912.5,  687.5],\n",
              "       [1925. , 2062.5],\n",
              "       [1787.5,  412.5],\n",
              "       [1837.5, 2362.5],\n",
              "       [1262.5, 2075. ],\n",
              "       [1687.5, 1650. ],\n",
              "       [2000. , 2350. ],\n",
              "       [1612.5, 2250. ],\n",
              "       [1487.5, 2225. ],\n",
              "       [2350. , 2600. ],\n",
              "       [1837.5, 2362.5],\n",
              "       [1862.5, 1425. ],\n",
              "       [2400. , 2375. ],\n",
              "       [1437.5, 1362.5],\n",
              "       [1925. , 1887.5],\n",
              "       [2250. , 1475. ],\n",
              "       [2012.5, 1750. ],\n",
              "       [1825. , 2050. ],\n",
              "       [2350. ,  725. ],\n",
              "       [ 912.5, 1587.5],\n",
              "       [1925. , 2062.5],\n",
              "       [1787.5,  412.5],\n",
              "       [1837.5, 2362.5],\n",
              "       [1262.5, 2075. ],\n",
              "       [1687.5, 1650. ],\n",
              "       [2000. , 2350. ],\n",
              "       [1612.5, 2250. ],\n",
              "       [1487.5, 2225. ],\n",
              "       [2350. , 2600. ],\n",
              "       [1837.5, 2362.5],\n",
              "       [1862.5, 1425. ],\n",
              "       [2400. , 2375. ],\n",
              "       [1437.5, 1362.5],\n",
              "       [1925. , 1887.5],\n",
              "       [2250. , 2175. ],\n",
              "       [2012.5, 1750. ],\n",
              "       [1825. , 2050. ],\n",
              "       [2350. , 1725. ],\n",
              "       [1462.5, 2387.5],\n",
              "       [1800. , 1050. ],\n",
              "       [1687.5, 1650. ],\n",
              "       [2175. ,  737.5],\n",
              "       [2725. , 2200. ],\n",
              "       [ 575. ,  587.5],\n",
              "       [1650. , 1512.5],\n",
              "       [ 637.5, 1012.5],\n",
              "       [1425. , 1887.5],\n",
              "       [1262.5, 2637.5],\n",
              "       [ 875. , 1125. ],\n",
              "       [ 725. , 1450. ],\n",
              "       [1375. , 1850. ],\n",
              "       [1375. , 1850. ],\n",
              "       [2087.5, 1250. ],\n",
              "       [1450. , 2700. ],\n",
              "       [2187.5,  625. ],\n",
              "       [2800. , 2325. ],\n",
              "       [2650. , 2225. ],\n",
              "       [2825. , 2425. ],\n",
              "       [ 887.5, 1137.5],\n",
              "       [1675. , 1325. ],\n",
              "       [2180. ,  600. ]])"
            ]
          },
          "metadata": {},
          "execution_count": 13
        }
      ]
    },
    {
      "cell_type": "code",
      "source": [
        "must_link = [ (n,(n+len(orders))) for n in range(len(orders)) ]\n",
        "# n_clusters = int(len(orders)/4)\n",
        "clusters, centers = cop_kmeans(dataset=locations, k=8, ml=must_link, initialization= 'kmpp')\n",
        "\n",
        "print(centers)\n"
      ],
      "metadata": {
        "id": "J6elN8gbzq7w",
        "colab": {
          "base_uri": "https://localhost:8080/"
        },
        "outputId": "801091fb-5afa-4505-d0a7-906a3d9f2d78"
      },
      "execution_count": null,
      "outputs": [
        {
          "output_type": "stream",
          "name": "stdout",
          "text": [
            "[[1525.4166666666667, 1830.2083333333333], [1758.3333333333333, 1681.25], [1624.3055555555557, 1980.5555555555557], [2362.5, 2106.25], [2162.5, 1627.5], [2214.0625, 2112.5], [1398.9583333333333, 1401.0416666666667], [1668.75, 839.5833333333334]]\n"
          ]
        }
      ]
    },
    {
      "cell_type": "code",
      "source": [
        "bundle = { clusters[ii]+1: [] for ii in range(len(clusters)) }\n",
        "\n",
        "for index, i in enumerate(clusters):\n",
        "  if index < 41:\n",
        "    bundle[i+1] += [index+1]\n",
        "print(bundle)"
      ],
      "metadata": {
        "id": "9SIwkG5UzwEI",
        "colab": {
          "base_uri": "https://localhost:8080/"
        },
        "outputId": "2c8f9654-64eb-4190-8e45-5d1e8d70f2c9"
      },
      "execution_count": null,
      "outputs": [
        {
          "output_type": "stream",
          "name": "stdout",
          "text": [
            "{6: [1, 14, 15, 16, 20, 21, 31, 34], 3: [2, 12, 23, 25, 28, 29, 30, 32, 39], 2: [3, 27, 33], 7: [4, 7, 17, 19, 22, 35], 1: [5, 6, 9, 10, 26, 41], 5: [8, 11, 37, 38, 40], 8: [13, 18, 24], 4: [36]}\n"
          ]
        }
      ]
    },
    {
      "cell_type": "code",
      "source": [
        "colors = cm.rainbow(np.linspace(0, 1, len(bundle)))\n",
        "X = np.concatenate((P, D))\n",
        "labels = np.array(clusters)\n",
        "for ix in range(len(bundle.keys())):\n",
        "    plt.scatter(X[labels==ix, 0], X[labels==ix, 1], s=200, marker='o', color=colors[ix])\n",
        "plt.show"
      ],
      "metadata": {
        "id": "B4SgFaLJ0nXA",
        "colab": {
          "base_uri": "https://localhost:8080/",
          "height": 282
        },
        "outputId": "a5367265-b3a4-400e-f07d-df06f68edce2"
      },
      "execution_count": null,
      "outputs": [
        {
          "output_type": "execute_result",
          "data": {
            "text/plain": [
              "<function matplotlib.pyplot.show(*args, **kw)>"
            ]
          },
          "metadata": {},
          "execution_count": 19
        },
        {
          "output_type": "display_data",
          "data": {
            "text/plain": [
              "<Figure size 432x288 with 1 Axes>"
            ],
            "image/png": "[encoded data removed]"
          },
          "metadata": {
            "needs_background": "light"
          }
        }
      ]
    },
    {
      "cell_type": "code",
      "source": [
        "#PICK UP\n",
        "labels = np.array(clusters)\n",
        "p_labels = labels[0:41]\n",
        "\n",
        "for ix in range(len(bundle.keys())):\n",
        "    plt.scatter(P[p_labels==ix, 0], P[p_labels==ix, 1], s=200, marker='o', color=colors[ix])\n",
        "plt.show"
      ],
      "metadata": {
        "id": "sOU_tE6l13Al",
        "colab": {
          "base_uri": "https://localhost:8080/",
          "height": 282
        },
        "outputId": "2d67b5dc-d783-4fa9-c845-3d8960bce6b7"
      },
      "execution_count": null,
      "outputs": [
        {
          "output_type": "execute_result",
          "data": {
            "text/plain": [
              "<function matplotlib.pyplot.show(*args, **kw)>"
            ]
          },
          "metadata": {},
          "execution_count": 9
        },
        {
          "output_type": "display_data",
          "data": {
            "text/plain": [
              "<Figure size 432x288 with 1 Axes>"
            ],
            "image/png": "[encoded data removed]"
          },
          "metadata": {
            "needs_background": "light"
          }
        }
      ]
    },
    {
      "cell_type": "code",
      "source": [
        "#DROP OFF\n",
        "labels = np.array(clusters)\n",
        "d_labels = labels[41:82]\n",
        "\n",
        "for ix in range(len(bundle.keys())):\n",
        "    plt.scatter(D[d_labels==ix, 0], D[d_labels==ix, 1], s=200, marker='o', color=colors[ix])\n",
        "plt.show"
      ],
      "metadata": {
        "id": "ALoahLzFJna2",
        "colab": {
          "base_uri": "https://localhost:8080/",
          "height": 282
        },
        "outputId": "f6039767-b6ed-4be5-da6c-a491ac55c3a7"
      },
      "execution_count": null,
      "outputs": [
        {
          "output_type": "execute_result",
          "data": {
            "text/plain": [
              "<function matplotlib.pyplot.show(*args, **kw)>"
            ]
          },
          "metadata": {},
          "execution_count": 10
        },
        {
          "output_type": "display_data",
          "data": {
            "text/plain": [
              "<Figure size 432x288 with 1 Axes>"
            ],
            "image/png": "[encoded data removed]"
          },
          "metadata": {
            "needs_background": "light"
          }
        }
      ]
    }
  ]
}